{
 "cells": [
  {
   "cell_type": "code",
   "execution_count": 1,
   "id": "0d74a87c",
   "metadata": {},
   "outputs": [],
   "source": [
    "import pandas as pd\n",
    "from matplotlib import pyplot as plt"
   ]
  },
  {
   "cell_type": "code",
   "execution_count": 2,
   "id": "2d5e3910",
   "metadata": {},
   "outputs": [],
   "source": [
    "def pixels_per_fontunit(pointsize, resolution, upm):\n",
    "    return ((pointsize * resolution) / (72 * upm))"
   ]
  },
  {
   "cell_type": "code",
   "execution_count": 3,
   "id": "82addd3e",
   "metadata": {},
   "outputs": [
    {
     "data": {
      "text/html": [
       "<div>\n",
       "<style scoped>\n",
       "    .dataframe tbody tr th:only-of-type {\n",
       "        vertical-align: middle;\n",
       "    }\n",
       "\n",
       "    .dataframe tbody tr th {\n",
       "        vertical-align: top;\n",
       "    }\n",
       "\n",
       "    .dataframe thead th {\n",
       "        text-align: right;\n",
       "    }\n",
       "</style>\n",
       "<table border=\"1\" class=\"dataframe\">\n",
       "  <thead>\n",
       "    <tr style=\"text-align: right;\">\n",
       "      <th></th>\n",
       "      <th>pointsize</th>\n",
       "      <th>pixels</th>\n",
       "    </tr>\n",
       "  </thead>\n",
       "  <tbody>\n",
       "    <tr>\n",
       "      <th>0</th>\n",
       "      <td>6</td>\n",
       "      <td>0.09</td>\n",
       "    </tr>\n",
       "    <tr>\n",
       "      <th>1</th>\n",
       "      <td>12</td>\n",
       "      <td>0.18</td>\n",
       "    </tr>\n",
       "    <tr>\n",
       "      <th>2</th>\n",
       "      <td>18</td>\n",
       "      <td>0.27</td>\n",
       "    </tr>\n",
       "    <tr>\n",
       "      <th>3</th>\n",
       "      <td>24</td>\n",
       "      <td>0.36</td>\n",
       "    </tr>\n",
       "    <tr>\n",
       "      <th>4</th>\n",
       "      <td>36</td>\n",
       "      <td>0.54</td>\n",
       "    </tr>\n",
       "    <tr>\n",
       "      <th>5</th>\n",
       "      <td>48</td>\n",
       "      <td>0.72</td>\n",
       "    </tr>\n",
       "    <tr>\n",
       "      <th>6</th>\n",
       "      <td>64</td>\n",
       "      <td>0.96</td>\n",
       "    </tr>\n",
       "    <tr>\n",
       "      <th>7</th>\n",
       "      <td>144</td>\n",
       "      <td>2.16</td>\n",
       "    </tr>\n",
       "  </tbody>\n",
       "</table>\n",
       "</div>"
      ],
      "text/plain": [
       "   pointsize  pixels\n",
       "0          6    0.09\n",
       "1         12    0.18\n",
       "2         18    0.27\n",
       "3         24    0.36\n",
       "4         36    0.54\n",
       "5         48    0.72\n",
       "6         64    0.96\n",
       "7        144    2.16"
      ]
     },
     "execution_count": 3,
     "metadata": {},
     "output_type": "execute_result"
    }
   ],
   "source": [
    "pointsizes = [6, 12, 18, 24, 36, 48, 64, 144]\n",
    "resolution = 72\n",
    "upm = 1000\n",
    "feature_size = 15\n",
    "\n",
    "feature_size_in_pixels = []\n",
    "\n",
    "for pointsize in pointsizes:\n",
    "    feature_size_in_pixels.append(feature_size * pixels_per_fontunit(pointsize, resolution, upm))\n",
    "\n",
    "\n",
    "df = pd.DataFrame({\"pointsize\": pointsizes, \"pixels\": feature_size_in_pixels})\n",
    "df\n"
   ]
  },
  {
   "cell_type": "code",
   "execution_count": 4,
   "id": "af11fe2d",
   "metadata": {},
   "outputs": [
    {
     "data": {
      "text/plain": [
       "[<matplotlib.axis.XTick at 0x113ce4520>,\n",
       " <matplotlib.axis.XTick at 0x113ce44f0>,\n",
       " <matplotlib.axis.XTick at 0x113d1be20>,\n",
       " <matplotlib.axis.XTick at 0x113d1ba60>,\n",
       " <matplotlib.axis.XTick at 0x113d46af0>,\n",
       " <matplotlib.axis.XTick at 0x113d4f280>,\n",
       " <matplotlib.axis.XTick at 0x113d4f9d0>,\n",
       " <matplotlib.axis.XTick at 0x113d52160>]"
      ]
     },
     "execution_count": 4,
     "metadata": {},
     "output_type": "execute_result"
    },
    {
     "data": {
      "image/png": "[encoded data removed]",
      "text/plain": [
       "<Figure size 864x576 with 1 Axes>"
      ]
     },
     "metadata": {
      "needs_background": "light"
     },
     "output_type": "display_data"
    }
   ],
   "source": [
    "plt.rcParams['figure.figsize'] = [12, 8]\n",
    "\n",
    "ax = df.plot(kind=\"scatter\", x=\"pointsize\", y=\"pixels\", alpha=0.9)\n",
    "ax.set_xlabel(\"Text size (pt)\")\n",
    "ax.set_ylabel(\"Feature size (pixels)\")\n",
    "ax.set_xticks(df[\"pointsize\"])"
   ]
  },
  {
   "cell_type": "code",
   "execution_count": 5,
   "id": "83c6de49",
   "metadata": {},
   "outputs": [
    {
     "data": {
      "text/html": [
       "<div>\n",
       "<style scoped>\n",
       "    .dataframe tbody tr th:only-of-type {\n",
       "        vertical-align: middle;\n",
       "    }\n",
       "\n",
       "    .dataframe tbody tr th {\n",
       "        vertical-align: top;\n",
       "    }\n",
       "\n",
       "    .dataframe thead th {\n",
       "        text-align: right;\n",
       "    }\n",
       "</style>\n",
       "<table border=\"1\" class=\"dataframe\">\n",
       "  <thead>\n",
       "    <tr style=\"text-align: right;\">\n",
       "      <th></th>\n",
       "      <th>resolution</th>\n",
       "      <th>pixels</th>\n",
       "    </tr>\n",
       "  </thead>\n",
       "  <tbody>\n",
       "    <tr>\n",
       "      <th>0</th>\n",
       "      <td>72</td>\n",
       "      <td>0.18</td>\n",
       "    </tr>\n",
       "    <tr>\n",
       "      <th>1</th>\n",
       "      <td>96</td>\n",
       "      <td>0.24</td>\n",
       "    </tr>\n",
       "    <tr>\n",
       "      <th>2</th>\n",
       "      <td>144</td>\n",
       "      <td>0.36</td>\n",
       "    </tr>\n",
       "    <tr>\n",
       "      <th>3</th>\n",
       "      <td>200</td>\n",
       "      <td>0.50</td>\n",
       "    </tr>\n",
       "    <tr>\n",
       "      <th>4</th>\n",
       "      <td>300</td>\n",
       "      <td>0.75</td>\n",
       "    </tr>\n",
       "    <tr>\n",
       "      <th>5</th>\n",
       "      <td>400</td>\n",
       "      <td>1.00</td>\n",
       "    </tr>\n",
       "  </tbody>\n",
       "</table>\n",
       "</div>"
      ],
      "text/plain": [
       "   resolution  pixels\n",
       "0          72    0.18\n",
       "1          96    0.24\n",
       "2         144    0.36\n",
       "3         200    0.50\n",
       "4         300    0.75\n",
       "5         400    1.00"
      ]
     },
     "execution_count": 5,
     "metadata": {},
     "output_type": "execute_result"
    }
   ],
   "source": [
    "pointsize = 12\n",
    "resolutions = [72, 96, 144, 200, 300, 400]\n",
    "upm = 1000\n",
    "feature_size = 15\n",
    "\n",
    "feature_size_in_pixels = []\n",
    "\n",
    "for resolution in resolutions:\n",
    "    feature_size_in_pixels.append(feature_size * pixels_per_fontunit(pointsize, resolution, upm))\n",
    "\n",
    "\n",
    "df = pd.DataFrame({\"resolution\": resolutions, \"pixels\": feature_size_in_pixels})\n",
    "df\n"
   ]
  },
  {
   "cell_type": "code",
   "execution_count": 6,
   "id": "c1f1404e",
   "metadata": {},
   "outputs": [
    {
     "data": {
      "text/plain": [
       "[<matplotlib.axis.XTick at 0x113e04f70>,\n",
       " <matplotlib.axis.XTick at 0x113e04f40>,\n",
       " <matplotlib.axis.XTick at 0x113e319a0>,\n",
       " <matplotlib.axis.XTick at 0x113e3d0d0>,\n",
       " <matplotlib.axis.XTick at 0x113e3d580>,\n",
       " <matplotlib.axis.XTick at 0x113e3dc10>]"
      ]
     },
     "execution_count": 6,
     "metadata": {},
     "output_type": "execute_result"
    },
    {
     "data": {
      "image/png": "[encoded data removed]",
      "text/plain": [
       "<Figure size 864x576 with 1 Axes>"
      ]
     },
     "metadata": {
      "needs_background": "light"
     },
     "output_type": "display_data"
    }
   ],
   "source": [
    "ax = df.plot(kind=\"scatter\", x=\"resolution\", y=\"pixels\", alpha=0.9)\n",
    "ax.set_xlabel(\"Screen Resolution (dpi)\")\n",
    "ax.set_ylabel(\"Feature size (pixels)\")\n",
    "ax.set_xticks(df[\"resolution\"])"
   ]
  },
  {
   "cell_type": "code",
   "execution_count": 7,
   "id": "a2627f28",
   "metadata": {},
   "outputs": [
    {
     "data": {
      "text/html": [
       "<div>\n",
       "<style scoped>\n",
       "    .dataframe tbody tr th:only-of-type {\n",
       "        vertical-align: middle;\n",
       "    }\n",
       "\n",
       "    .dataframe tbody tr th {\n",
       "        vertical-align: top;\n",
       "    }\n",
       "\n",
       "    .dataframe thead th {\n",
       "        text-align: right;\n",
       "    }\n",
       "</style>\n",
       "<table border=\"1\" class=\"dataframe\">\n",
       "  <thead>\n",
       "    <tr style=\"text-align: right;\">\n",
       "      <th></th>\n",
       "      <th>font_units</th>\n",
       "      <th>pixels</th>\n",
       "    </tr>\n",
       "  </thead>\n",
       "  <tbody>\n",
       "    <tr>\n",
       "      <th>0</th>\n",
       "      <td>5</td>\n",
       "      <td>0.06</td>\n",
       "    </tr>\n",
       "    <tr>\n",
       "      <th>1</th>\n",
       "      <td>10</td>\n",
       "      <td>0.12</td>\n",
       "    </tr>\n",
       "    <tr>\n",
       "      <th>2</th>\n",
       "      <td>15</td>\n",
       "      <td>0.18</td>\n",
       "    </tr>\n",
       "    <tr>\n",
       "      <th>3</th>\n",
       "      <td>20</td>\n",
       "      <td>0.24</td>\n",
       "    </tr>\n",
       "    <tr>\n",
       "      <th>4</th>\n",
       "      <td>25</td>\n",
       "      <td>0.30</td>\n",
       "    </tr>\n",
       "    <tr>\n",
       "      <th>5</th>\n",
       "      <td>30</td>\n",
       "      <td>0.36</td>\n",
       "    </tr>\n",
       "    <tr>\n",
       "      <th>6</th>\n",
       "      <td>35</td>\n",
       "      <td>0.42</td>\n",
       "    </tr>\n",
       "    <tr>\n",
       "      <th>7</th>\n",
       "      <td>40</td>\n",
       "      <td>0.48</td>\n",
       "    </tr>\n",
       "    <tr>\n",
       "      <th>8</th>\n",
       "      <td>45</td>\n",
       "      <td>0.54</td>\n",
       "    </tr>\n",
       "    <tr>\n",
       "      <th>9</th>\n",
       "      <td>50</td>\n",
       "      <td>0.60</td>\n",
       "    </tr>\n",
       "  </tbody>\n",
       "</table>\n",
       "</div>"
      ],
      "text/plain": [
       "   font_units  pixels\n",
       "0           5    0.06\n",
       "1          10    0.12\n",
       "2          15    0.18\n",
       "3          20    0.24\n",
       "4          25    0.30\n",
       "5          30    0.36\n",
       "6          35    0.42\n",
       "7          40    0.48\n",
       "8          45    0.54\n",
       "9          50    0.60"
      ]
     },
     "execution_count": 7,
     "metadata": {},
     "output_type": "execute_result"
    }
   ],
   "source": [
    "pointsize = 12\n",
    "resolution = 72\n",
    "upm = 1000\n",
    "feature_sizes = [5, 10, 15, 20, 25, 30, 35, 40, 45, 50]\n",
    "\n",
    "feature_size_in_pixels = []\n",
    "\n",
    "for funits in feature_sizes:\n",
    "    feature_size_in_pixels.append(funits * pixels_per_fontunit(pointsize, resolution, upm))\n",
    "\n",
    "\n",
    "df = pd.DataFrame({\"font_units\": feature_sizes, \"pixels\": feature_size_in_pixels})\n",
    "df"
   ]
  },
  {
   "cell_type": "code",
   "execution_count": 8,
   "id": "f69959da",
   "metadata": {
    "scrolled": false
   },
   "outputs": [
    {
     "name": "stdout",
     "output_type": "stream",
     "text": [
      "Pixel size: 0.01389 in\n"
     ]
    },
    {
     "data": {
      "image/png": "[encoded data removed]",
      "text/plain": [
       "<Figure size 864x576 with 1 Axes>"
      ]
     },
     "metadata": {
      "needs_background": "light"
     },
     "output_type": "display_data"
    }
   ],
   "source": [
    "ax = df.plot(kind=\"line\", x=\"font_units\", y=\"pixels\", alpha=0.9)\n",
    "ax.set_xlabel(\"Feature size (font units)\")\n",
    "ax.set_ylabel(\"Feature size (pixels)\")\n",
    "ax.set_xticks(df[\"font_units\"])\n",
    "ax.set_title(\"Feature size in pixels @ screen resolution 72dpi\")\n",
    "print(f\"Pixel size: {1 / 72:.5f} in\")"
   ]
  },
  {
   "cell_type": "code",
   "execution_count": 9,
   "id": "db4ddbb3",
   "metadata": {},
   "outputs": [
    {
     "data": {
      "text/html": [
       "<div>\n",
       "<style scoped>\n",
       "    .dataframe tbody tr th:only-of-type {\n",
       "        vertical-align: middle;\n",
       "    }\n",
       "\n",
       "    .dataframe tbody tr th {\n",
       "        vertical-align: top;\n",
       "    }\n",
       "\n",
       "    .dataframe thead th {\n",
       "        text-align: right;\n",
       "    }\n",
       "</style>\n",
       "<table border=\"1\" class=\"dataframe\">\n",
       "  <thead>\n",
       "    <tr style=\"text-align: right;\">\n",
       "      <th></th>\n",
       "      <th>font_units</th>\n",
       "      <th>pixels</th>\n",
       "    </tr>\n",
       "  </thead>\n",
       "  <tbody>\n",
       "    <tr>\n",
       "      <th>0</th>\n",
       "      <td>5</td>\n",
       "      <td>0.08</td>\n",
       "    </tr>\n",
       "    <tr>\n",
       "      <th>1</th>\n",
       "      <td>10</td>\n",
       "      <td>0.16</td>\n",
       "    </tr>\n",
       "    <tr>\n",
       "      <th>2</th>\n",
       "      <td>15</td>\n",
       "      <td>0.24</td>\n",
       "    </tr>\n",
       "    <tr>\n",
       "      <th>3</th>\n",
       "      <td>20</td>\n",
       "      <td>0.32</td>\n",
       "    </tr>\n",
       "    <tr>\n",
       "      <th>4</th>\n",
       "      <td>25</td>\n",
       "      <td>0.40</td>\n",
       "    </tr>\n",
       "    <tr>\n",
       "      <th>5</th>\n",
       "      <td>30</td>\n",
       "      <td>0.48</td>\n",
       "    </tr>\n",
       "    <tr>\n",
       "      <th>6</th>\n",
       "      <td>35</td>\n",
       "      <td>0.56</td>\n",
       "    </tr>\n",
       "    <tr>\n",
       "      <th>7</th>\n",
       "      <td>40</td>\n",
       "      <td>0.64</td>\n",
       "    </tr>\n",
       "    <tr>\n",
       "      <th>8</th>\n",
       "      <td>45</td>\n",
       "      <td>0.72</td>\n",
       "    </tr>\n",
       "    <tr>\n",
       "      <th>9</th>\n",
       "      <td>50</td>\n",
       "      <td>0.80</td>\n",
       "    </tr>\n",
       "  </tbody>\n",
       "</table>\n",
       "</div>"
      ],
      "text/plain": [
       "   font_units  pixels\n",
       "0           5    0.08\n",
       "1          10    0.16\n",
       "2          15    0.24\n",
       "3          20    0.32\n",
       "4          25    0.40\n",
       "5          30    0.48\n",
       "6          35    0.56\n",
       "7          40    0.64\n",
       "8          45    0.72\n",
       "9          50    0.80"
      ]
     },
     "execution_count": 9,
     "metadata": {},
     "output_type": "execute_result"
    }
   ],
   "source": [
    "pointsize = 12\n",
    "resolution = 96\n",
    "upm = 1000\n",
    "feature_sizes = [5, 10, 15, 20, 25, 30, 35, 40, 45, 50]\n",
    "\n",
    "feature_size_in_pixels = []\n",
    "\n",
    "for funits in feature_sizes:\n",
    "    feature_size_in_pixels.append(funits * pixels_per_fontunit(pointsize, resolution, upm))\n",
    "\n",
    "\n",
    "df = pd.DataFrame({\"font_units\": feature_sizes, \"pixels\": feature_size_in_pixels})\n",
    "df"
   ]
  },
  {
   "cell_type": "code",
   "execution_count": 10,
   "id": "00c6e750",
   "metadata": {},
   "outputs": [
    {
     "name": "stdout",
     "output_type": "stream",
     "text": [
      "Pixel size: 0.01042 in\n"
     ]
    },
    {
     "data": {
      "image/png": "[encoded data removed]",
      "text/plain": [
       "<Figure size 864x576 with 1 Axes>"
      ]
     },
     "metadata": {
      "needs_background": "light"
     },
     "output_type": "display_data"
    }
   ],
   "source": [
    "ax = df.plot(kind=\"line\", x=\"font_units\", y=\"pixels\", alpha=0.9)\n",
    "ax.set_xlabel(\"Feature size (font units)\")\n",
    "ax.set_ylabel(\"Feature size (pixels)\")\n",
    "ax.set_xticks(df[\"font_units\"])\n",
    "ax.set_title(\"Feature size in pixels @ screen resolution 96dpi\")\n",
    "print(f\"Pixel size: {1 / 96:.5f} in\")"
   ]
  },
  {
   "cell_type": "code",
   "execution_count": 11,
   "id": "64d4c80e",
   "metadata": {},
   "outputs": [
    {
     "data": {
      "text/html": [
       "<div>\n",
       "<style scoped>\n",
       "    .dataframe tbody tr th:only-of-type {\n",
       "        vertical-align: middle;\n",
       "    }\n",
       "\n",
       "    .dataframe tbody tr th {\n",
       "        vertical-align: top;\n",
       "    }\n",
       "\n",
       "    .dataframe thead th {\n",
       "        text-align: right;\n",
       "    }\n",
       "</style>\n",
       "<table border=\"1\" class=\"dataframe\">\n",
       "  <thead>\n",
       "    <tr style=\"text-align: right;\">\n",
       "      <th></th>\n",
       "      <th>font_units</th>\n",
       "      <th>pixels</th>\n",
       "    </tr>\n",
       "  </thead>\n",
       "  <tbody>\n",
       "    <tr>\n",
       "      <th>0</th>\n",
       "      <td>5</td>\n",
       "      <td>0.104167</td>\n",
       "    </tr>\n",
       "    <tr>\n",
       "      <th>1</th>\n",
       "      <td>10</td>\n",
       "      <td>0.208333</td>\n",
       "    </tr>\n",
       "    <tr>\n",
       "      <th>2</th>\n",
       "      <td>15</td>\n",
       "      <td>0.312500</td>\n",
       "    </tr>\n",
       "    <tr>\n",
       "      <th>3</th>\n",
       "      <td>20</td>\n",
       "      <td>0.416667</td>\n",
       "    </tr>\n",
       "    <tr>\n",
       "      <th>4</th>\n",
       "      <td>25</td>\n",
       "      <td>0.520833</td>\n",
       "    </tr>\n",
       "    <tr>\n",
       "      <th>5</th>\n",
       "      <td>30</td>\n",
       "      <td>0.625000</td>\n",
       "    </tr>\n",
       "    <tr>\n",
       "      <th>6</th>\n",
       "      <td>35</td>\n",
       "      <td>0.729167</td>\n",
       "    </tr>\n",
       "    <tr>\n",
       "      <th>7</th>\n",
       "      <td>40</td>\n",
       "      <td>0.833333</td>\n",
       "    </tr>\n",
       "    <tr>\n",
       "      <th>8</th>\n",
       "      <td>45</td>\n",
       "      <td>0.937500</td>\n",
       "    </tr>\n",
       "    <tr>\n",
       "      <th>9</th>\n",
       "      <td>50</td>\n",
       "      <td>1.041667</td>\n",
       "    </tr>\n",
       "  </tbody>\n",
       "</table>\n",
       "</div>"
      ],
      "text/plain": [
       "   font_units    pixels\n",
       "0           5  0.104167\n",
       "1          10  0.208333\n",
       "2          15  0.312500\n",
       "3          20  0.416667\n",
       "4          25  0.520833\n",
       "5          30  0.625000\n",
       "6          35  0.729167\n",
       "7          40  0.833333\n",
       "8          45  0.937500\n",
       "9          50  1.041667"
      ]
     },
     "execution_count": 11,
     "metadata": {},
     "output_type": "execute_result"
    }
   ],
   "source": [
    "pointsize = 12\n",
    "resolution = 125\n",
    "upm = 1000\n",
    "feature_sizes = [5, 10, 15, 20, 25, 30, 35, 40, 45, 50]\n",
    "\n",
    "feature_size_in_pixels = []\n",
    "\n",
    "for funits in feature_sizes:\n",
    "    feature_size_in_pixels.append(funits * pixels_per_fontunit(pointsize, resolution, upm))\n",
    "\n",
    "\n",
    "df = pd.DataFrame({\"font_units\": feature_sizes, \"pixels\": feature_size_in_pixels})\n",
    "df"
   ]
  },
  {
   "cell_type": "code",
   "execution_count": 12,
   "id": "f90b618a",
   "metadata": {},
   "outputs": [
    {
     "name": "stdout",
     "output_type": "stream",
     "text": [
      "Pixel size: 0.00800 in\n"
     ]
    },
    {
     "data": {
      "image/png": "[encoded data removed]",
      "text/plain": [
       "<Figure size 864x576 with 1 Axes>"
      ]
     },
     "metadata": {
      "needs_background": "light"
     },
     "output_type": "display_data"
    }
   ],
   "source": [
    "ax = df.plot(kind=\"line\", x=\"font_units\", y=\"pixels\", alpha=0.9)\n",
    "ax.set_xlabel(\"Feature size (font units)\")\n",
    "ax.set_ylabel(\"Feature size (pixels)\")\n",
    "ax.set_xticks(df[\"font_units\"])\n",
    "ax.set_title(\"Feature size in pixels @ screen resolution 125dpi\")\n",
    "print(f\"Pixel size: {1 / 125:.5f} in\")"
   ]
  },
  {
   "cell_type": "code",
   "execution_count": 13,
   "id": "56d451a0",
   "metadata": {},
   "outputs": [
    {
     "data": {
      "text/html": [
       "<div>\n",
       "<style scoped>\n",
       "    .dataframe tbody tr th:only-of-type {\n",
       "        vertical-align: middle;\n",
       "    }\n",
       "\n",
       "    .dataframe tbody tr th {\n",
       "        vertical-align: top;\n",
       "    }\n",
       "\n",
       "    .dataframe thead th {\n",
       "        text-align: right;\n",
       "    }\n",
       "</style>\n",
       "<table border=\"1\" class=\"dataframe\">\n",
       "  <thead>\n",
       "    <tr style=\"text-align: right;\">\n",
       "      <th></th>\n",
       "      <th>font_units</th>\n",
       "      <th>pixels</th>\n",
       "    </tr>\n",
       "  </thead>\n",
       "  <tbody>\n",
       "    <tr>\n",
       "      <th>0</th>\n",
       "      <td>5</td>\n",
       "      <td>0.166667</td>\n",
       "    </tr>\n",
       "    <tr>\n",
       "      <th>1</th>\n",
       "      <td>10</td>\n",
       "      <td>0.333333</td>\n",
       "    </tr>\n",
       "    <tr>\n",
       "      <th>2</th>\n",
       "      <td>15</td>\n",
       "      <td>0.500000</td>\n",
       "    </tr>\n",
       "    <tr>\n",
       "      <th>3</th>\n",
       "      <td>20</td>\n",
       "      <td>0.666667</td>\n",
       "    </tr>\n",
       "    <tr>\n",
       "      <th>4</th>\n",
       "      <td>25</td>\n",
       "      <td>0.833333</td>\n",
       "    </tr>\n",
       "    <tr>\n",
       "      <th>5</th>\n",
       "      <td>30</td>\n",
       "      <td>1.000000</td>\n",
       "    </tr>\n",
       "    <tr>\n",
       "      <th>6</th>\n",
       "      <td>35</td>\n",
       "      <td>1.166667</td>\n",
       "    </tr>\n",
       "    <tr>\n",
       "      <th>7</th>\n",
       "      <td>40</td>\n",
       "      <td>1.333333</td>\n",
       "    </tr>\n",
       "    <tr>\n",
       "      <th>8</th>\n",
       "      <td>45</td>\n",
       "      <td>1.500000</td>\n",
       "    </tr>\n",
       "    <tr>\n",
       "      <th>9</th>\n",
       "      <td>50</td>\n",
       "      <td>1.666667</td>\n",
       "    </tr>\n",
       "  </tbody>\n",
       "</table>\n",
       "</div>"
      ],
      "text/plain": [
       "   font_units    pixels\n",
       "0           5  0.166667\n",
       "1          10  0.333333\n",
       "2          15  0.500000\n",
       "3          20  0.666667\n",
       "4          25  0.833333\n",
       "5          30  1.000000\n",
       "6          35  1.166667\n",
       "7          40  1.333333\n",
       "8          45  1.500000\n",
       "9          50  1.666667"
      ]
     },
     "execution_count": 13,
     "metadata": {},
     "output_type": "execute_result"
    }
   ],
   "source": [
    "pointsize = 12\n",
    "resolution = 200\n",
    "upm = 1000\n",
    "feature_sizes = [5, 10, 15, 20, 25, 30, 35, 40, 45, 50]\n",
    "\n",
    "feature_size_in_pixels = []\n",
    "\n",
    "for funits in feature_sizes:\n",
    "    feature_size_in_pixels.append(funits * pixels_per_fontunit(pointsize, resolution, upm))\n",
    "\n",
    "\n",
    "df = pd.DataFrame({\"font_units\": feature_sizes, \"pixels\": feature_size_in_pixels})\n",
    "df"
   ]
  },
  {
   "cell_type": "code",
   "execution_count": 14,
   "id": "ee15054f",
   "metadata": {},
   "outputs": [
    {
     "name": "stdout",
     "output_type": "stream",
     "text": [
      "Pixel size: 0.00500 in\n"
     ]
    },
    {
     "data": {
      "image/png": "[encoded data removed]",
      "text/plain": [
       "<Figure size 864x576 with 1 Axes>"
      ]
     },
     "metadata": {
      "needs_background": "light"
     },
     "output_type": "display_data"
    }
   ],
   "source": [
    "ax = df.plot(kind=\"line\", x=\"font_units\", y=\"pixels\", alpha=0.9)\n",
    "ax.set_xlabel(\"Feature size (font units)\")\n",
    "ax.set_ylabel(\"Feature size (pixels)\")\n",
    "ax.set_xticks(df[\"font_units\"])\n",
    "ax.set_title(\"Feature size in pixels @ screen resolution 200dpi\")\n",
    "print(f\"Pixel size: {1 / 200:.5f} in\")"
   ]
  },
  {
   "cell_type": "code",
   "execution_count": null,
   "id": "6f6b8289",
   "metadata": {},
   "outputs": [],
   "source": []
  }
 ],
 "metadata": {
  "kernelspec": {
   "display_name": "Python 3",
   "language": "python",
   "name": "python3"
  },
  "language_info": {
   "codemirror_mode": {
    "name": "ipython",
    "version": 3
   },
   "file_extension": ".py",
   "mimetype": "text/x-python",
   "name": "python",
   "nbconvert_exporter": "python",
   "pygments_lexer": "ipython3",
   "version": "3.9.5+"
  }
 },
 "nbformat": 4,
 "nbformat_minor": 5
}
